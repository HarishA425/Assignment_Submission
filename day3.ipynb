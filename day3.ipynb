{
 "cells": [
  {
   "cell_type": "markdown",
   "metadata": {},
   "source": [
    "DAY 3\n"
   ]
  },
  {
   "cell_type": "markdown",
   "metadata": {},
   "source": [
    "Q1 >>\n"
   ]
  },
  {
   "cell_type": "code",
   "execution_count": 1,
   "metadata": {},
   "outputs": [
    {
     "name": "stdout",
     "output_type": "stream",
     "text": [
      "[ 2  5  8 11 14 17 20 23 26 29 32 35 38 41 44 47 50]\n"
     ]
    }
   ],
   "source": [
    "import numpy as np\n",
    "print(np.arange(2, 51, 3))\n"
   ]
  },
  {
   "cell_type": "markdown",
   "metadata": {},
   "source": [
    "Q2 >>\n"
   ]
  },
  {
   "cell_type": "code",
   "execution_count": 3,
   "metadata": {},
   "outputs": [
    {
     "name": "stdin",
     "output_type": "stream",
     "text": [
      " 1\n",
      " 2\n",
      " 3\n",
      " 4\n",
      " 5\n"
     ]
    },
    {
     "name": "stdout",
     "output_type": "stream",
     "text": [
      "List one : [1, 2, 3, 4, 5]\n"
     ]
    },
    {
     "name": "stdin",
     "output_type": "stream",
     "text": [
      " 6\n",
      " 7\n",
      " 8\n",
      " 9\n",
      " 10\n"
     ]
    },
    {
     "name": "stdout",
     "output_type": "stream",
     "text": [
      "List Two [6, 7, 8, 9, 10]\n",
      "List to array convert 1 : [1 2 3 4 5]\n",
      "List to array convert 2 : [ 6  7  8  9 10]\n",
      "concatenation of arrays are : [ 1  2  3  4  5  6  7  8  9 10]\n",
      "Sorted array : [ 1  2  3  4  5  6  7  8  9 10]\n"
     ]
    }
   ],
   "source": [
    "import numpy as np\n",
    "my_list_one = []\n",
    "my_list_two = []\n",
    "for i in range(5):\n",
    "    my_input = int(input())\n",
    "    my_list_one.append(my_input)\n",
    "print(\"List one :\",my_list_one)\n",
    "\n",
    "for i in range(5):\n",
    "    my_input = int(input())\n",
    "    my_list_two.append(my_input)\n",
    "print(\"List Two\", my_list_two)\n",
    "\n",
    "my_array_one = np.array(my_list_one)\n",
    "my_array_two = np.array(my_list_two)\n",
    "print(\"List to array convert 1 :\", my_array_one)\n",
    "print(\"List to array convert 2 :\", my_array_two)\n",
    "\n",
    "array_concat = np.concatenate((my_array_one, my_array_two))\n",
    "\n",
    "print(\"concatenation of arrays are :\", array_concat)\n",
    "print(\"Sorted array :\", np.sort(array_concat))"
   ]
  },
  {
   "cell_type": "markdown",
   "metadata": {},
   "source": [
    "Q3 >>\n"
   ]
  },
  {
   "cell_type": "code",
   "execution_count": 4,
   "metadata": {},
   "outputs": [
    {
     "name": "stdout",
     "output_type": "stream",
     "text": [
      "calculating Dimensions of a nd array is : 2\n",
      "Size of an array is : 12\n"
     ]
    }
   ],
   "source": [
    "import numpy as np\n",
    "my_array_one = np.array([[1, 4, 7], [3, 6, 9], [1, 4, 7], [3, 6, 9]])\n",
    "print(\"calculating Dimensions of a nd array is :\", my_array_one.ndim)\n",
    "\n",
    "print(\"Size of an array is :\", my_array_one.size)"
   ]
  },
  {
   "cell_type": "markdown",
   "metadata": {},
   "source": [
    "Q4 >>\n"
   ]
  },
  {
   "cell_type": "code",
   "execution_count": 6,
   "metadata": {},
   "outputs": [
    {
     "name": "stdin",
     "output_type": "stream",
     "text": [
      " 5\n"
     ]
    },
    {
     "name": "stdout",
     "output_type": "stream",
     "text": [
      "Test 1D array (shape) : (5,)\n",
      "Test` 2D array for row is : (1, 5)\n",
      "Test` 2D array for column is : (5, 1)\n"
     ]
    }
   ],
   "source": [
    "import numpy as np\n",
    "\n",
    "arr = np.arange(int(input()))\n",
    "print(\"Test 1D array (shape) :\", arr.shape)\n",
    "\n",
    "two_d_array_row = arr[np.newaxis]\n",
    "print(\"Test` 2D array for row is :\", two_d_array_row.shape)\n",
    "\n",
    "two_d_array_col = arr[:, np.newaxis]\n",
    "print(\"Test` 2D array for column is :\", two_d_array_col.shape)"
   ]
  },
  {
   "cell_type": "markdown",
   "metadata": {},
   "source": [
    "Q5 >>\n"
   ]
  },
  {
   "cell_type": "code",
   "execution_count": 7,
   "metadata": {},
   "outputs": [
    {
     "name": "stdout",
     "output_type": "stream",
     "text": [
      " horizontally stacked : [   1   25   25   81 6241 1936    9 3136   64 7921 8100 3600   16   25\n",
      "   16   36   64   81  121  169   49    9    4]\n",
      "vertically stacked :  [   1   25   25   81 6241 1936    9 3136   64 7921 8100 3600   16   25\n",
      "   16   36   64   81  121  169   49    9    4]\n"
     ]
    }
   ],
   "source": [
    "import numpy as np\n",
    "my_array_one = np.square([1, 5, 5, 9, 79, 44, 3, 56, 8, 89, 90, 60, 4, 5])\n",
    "my_array_two = np.square([4, 6, 8, 9, 11, 13, 7, 3, 2]) \n",
    "\n",
    "print(\" horizontally stacked :\", np.hstack((my_array_one, my_array_two)))\n",
    "print(\"vertically stacked : \", np.hstack((my_array_one, my_array_two)))"
   ]
  },
  {
   "cell_type": "markdown",
   "metadata": {},
   "source": [
    "Q6 >>\n"
   ]
  },
  {
   "cell_type": "code",
   "execution_count": 8,
   "metadata": {},
   "outputs": [
    {
     "name": "stdout",
     "output_type": "stream",
     "text": [
      "[[ 1  1]\n",
      " [ 2  1]\n",
      " [ 3  1]\n",
      " [ 4  1]\n",
      " [ 5  1]\n",
      " [ 6  1]\n",
      " [ 7  1]\n",
      " [ 8  1]\n",
      " [12  1]]\n"
     ]
    }
   ],
   "source": [
    "import numpy as np\n",
    "arr = np.array([4, 6, 7, 8, 5, 3, 2, 1, 12])\n",
    "unique, counts = np.unique(arr, return_counts=True)\n",
    "arr = np.asarray((unique, counts)).T\n",
    "print(arr)"
   ]
  }
 ],
 "metadata": {
  "kernelspec": {
   "display_name": "Python 3",
   "language": "python",
   "name": "python3"
  },
  "language_info": {
   "codemirror_mode": {
    "name": "ipython",
    "version": 3
   },
   "file_extension": ".py",
   "mimetype": "text/x-python",
   "name": "python",
   "nbconvert_exporter": "python",
   "pygments_lexer": "ipython3",
   "version": "3.7.6"
  }
 },
 "nbformat": 4,
 "nbformat_minor": 4
}
